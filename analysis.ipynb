{
 "cells": [
  {
   "cell_type": "markdown",
   "id": "8a617d3d",
   "metadata": {},
   "source": [
    "Analyze patterns in volatility time series. <br>\n",
    "We analyze the patterns affected by issue of green bonds using <i>Grad-CAM</i>"
   ]
  },
  {
   "cell_type": "code",
   "execution_count": null,
   "id": "0ed81954",
   "metadata": {},
   "outputs": [],
   "source": []
  }
 ],
 "metadata": {
  "kernelspec": {
   "display_name": "Python 3 (ipykernel)",
   "language": "python",
   "name": "python3"
  },
  "language_info": {
   "codemirror_mode": {
    "name": "ipython",
    "version": 3
   },
   "file_extension": ".py",
   "mimetype": "text/x-python",
   "name": "python",
   "nbconvert_exporter": "python",
   "pygments_lexer": "ipython3",
   "version": "3.8.8"
  }
 },
 "nbformat": 4,
 "nbformat_minor": 5
}
